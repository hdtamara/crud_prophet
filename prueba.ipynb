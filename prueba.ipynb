{
 "cells": [
  {
   "cell_type": "code",
   "execution_count": 1,
   "metadata": {},
   "outputs": [
    {
     "name": "stdout",
     "output_type": "stream",
     "text": [
      "2023-06-26 16:16:27,045 INFO sqlalchemy.engine.Engine BEGIN (implicit)\n",
      "2023-06-26 16:16:27,045 INFO sqlalchemy.engine.Engine PRAGMA main.table_info(\"tbl_prophet_validacion_diaria\")\n",
      "2023-06-26 16:16:27,045 INFO sqlalchemy.engine.Engine [raw sql] ()\n",
      "2023-06-26 16:16:27,045 INFO sqlalchemy.engine.Engine PRAGMA main.table_info(\"tbl_prophet_prediccion_diaria\")\n",
      "2023-06-26 16:16:27,045 INFO sqlalchemy.engine.Engine [raw sql] ()\n",
      "2023-06-26 16:16:27,045 INFO sqlalchemy.engine.Engine COMMIT\n"
     ]
    }
   ],
   "source": [
    "#Importamos los modulos necesarios\n",
    "import crud\n",
    "import pandas as pd\n",
    "from datetime import date"
   ]
  },
  {
   "attachments": {},
   "cell_type": "markdown",
   "metadata": {},
   "source": [
    "# Probamos la clase para validacion data"
   ]
  },
  {
   "cell_type": "code",
   "execution_count": 4,
   "metadata": {},
   "outputs": [],
   "source": [
    "#Data de ejemplo\n",
    "data = pd.read_csv('./val.csv')"
   ]
  },
  {
   "cell_type": "code",
   "execution_count": 5,
   "metadata": {},
   "outputs": [],
   "source": [
    "#Eliminamos las columnas innecesaria\n",
    "data.drop(['Unnamed: 0'],axis=1,inplace=True)"
   ]
  },
  {
   "cell_type": "code",
   "execution_count": 6,
   "metadata": {},
   "outputs": [],
   "source": [
    "#Renombramos con los mismos nombres de la clase\n",
    "data.rename(columns={'Año':'year',\n",
    "                     'MES':'month',\n",
    "                     'Dia':'day',\n",
    "                     'DiaSemana':'day_week',\n",
    "                     'Interpolado REAL CALLS':'interpolado',\n",
    "                     'StateHoliday':'state_holiday',\n",
    "                     'FECHA':'fecha',\n",
    "                     'LINEA':'service_line_id',\n",
    "                     'NEGOCIO':'cost_center_id'},inplace=True)"
   ]
  },
  {
   "cell_type": "code",
   "execution_count": 7,
   "metadata": {},
   "outputs": [],
   "source": [
    "#Convertimos el df en una lista de diccionarios\n",
    "data1 = data.to_dict('records')\n",
    "data1"
   ]
  },
  {
   "cell_type": "code",
   "execution_count": 9,
   "metadata": {},
   "outputs": [],
   "source": [
    "#Preparamos la data de cargue de ejemplo\n",
    "data1[0]['fecha']=date(2023,3,14)\n",
    "data1[0]"
   ]
  },
  {
   "cell_type": "code",
   "execution_count": null,
   "metadata": {},
   "outputs": [],
   "source": [
    "#Cargamos el dato\n",
    "crud.add_validacion_diaria(data1[0])"
   ]
  },
  {
   "cell_type": "code",
   "execution_count": 12,
   "metadata": {},
   "outputs": [],
   "source": [
    "#Cambiamos un valor del dato\n",
    "data1[0]['interpolado']=2300"
   ]
  },
  {
   "cell_type": "code",
   "execution_count": null,
   "metadata": {},
   "outputs": [],
   "source": [
    "#Actualizamos el dato\n",
    "crud.add_validacion_diaria(data1[0])"
   ]
  },
  {
   "attachments": {},
   "cell_type": "markdown",
   "metadata": {},
   "source": [
    "# Probamos la clase predicción data"
   ]
  },
  {
   "cell_type": "code",
   "execution_count": 2,
   "metadata": {},
   "outputs": [],
   "source": [
    "#Data de ejemplo\n",
    "data = pd.read_csv('./Pred_dr.csv')"
   ]
  },
  {
   "cell_type": "code",
   "execution_count": 3,
   "metadata": {},
   "outputs": [],
   "source": [
    "#Eliminamos las columnas innecesaria\n",
    "data.drop(['Unnamed: 0','index'],axis=1,inplace=True)"
   ]
  },
  {
   "cell_type": "code",
   "execution_count": 4,
   "metadata": {},
   "outputs": [],
   "source": [
    "#Renombramos con los mismos nombres de la clase\n",
    "data.rename(columns={'Año':'year',\n",
    "                     'MES':'month',\n",
    "                     'Dia':'day',\n",
    "                     'DiaSemana':'day_week',\n",
    "                     'Interpolado REAL CALLS':'interpolado',\n",
    "                     'StateHoliday':'state_holiday',\n",
    "                     'LINEA':'service_line_id',\n",
    "                     'NEGOCIO':'cost_center_id'},inplace=True)"
   ]
  },
  {
   "cell_type": "code",
   "execution_count": 5,
   "metadata": {},
   "outputs": [],
   "source": [
    "#Creamos funcion para concatenar fechas\n",
    "def crear_fecha(df:pd.DataFrame):\n",
    "    return date(df['year'],df['month'],df['day'])"
   ]
  },
  {
   "cell_type": "code",
   "execution_count": 6,
   "metadata": {},
   "outputs": [],
   "source": [
    "#Concatenamos la fecha\n",
    "data['fecha'] = data.apply(crear_fecha,axis='columns')"
   ]
  },
  {
   "cell_type": "code",
   "execution_count": 7,
   "metadata": {},
   "outputs": [],
   "source": [
    "#Tomamos solo un dato de la lista\n",
    "data_prueba = data.to_dict('records')[0]"
   ]
  },
  {
   "cell_type": "code",
   "execution_count": null,
   "metadata": {},
   "outputs": [],
   "source": [
    "data_prueba"
   ]
  },
  {
   "cell_type": "code",
   "execution_count": null,
   "metadata": {},
   "outputs": [],
   "source": [
    "#Cargamos la data de prueba\n",
    "crud.add_prediccion_diaria(data_prueba)"
   ]
  },
  {
   "cell_type": "code",
   "execution_count": null,
   "metadata": {},
   "outputs": [],
   "source": [
    "#Probamos la actualización\n",
    "data_prueba['prediccion'] = 55\n",
    "crud.add_prediccion_diaria(data_prueba)"
   ]
  }
 ],
 "metadata": {
  "kernelspec": {
   "display_name": "Python 3",
   "language": "python",
   "name": "python3"
  },
  "language_info": {
   "codemirror_mode": {
    "name": "ipython",
    "version": 3
   },
   "file_extension": ".py",
   "mimetype": "text/x-python",
   "name": "python",
   "nbconvert_exporter": "python",
   "pygments_lexer": "ipython3",
   "version": "3.10.11"
  },
  "orig_nbformat": 4
 },
 "nbformat": 4,
 "nbformat_minor": 2
}
